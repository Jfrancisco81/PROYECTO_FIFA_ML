{
 "cells": [
  {
   "cell_type": "code",
   "execution_count": 2,
   "metadata": {},
   "outputs": [],
   "source": [
    "import os\n",
    "import sys\n",
    "\n",
    "sys.path.insert(0, os.path.abspath('..'))\n",
    "os.chdir(os.path.dirname(sys.path[0])) # Este comando hace que el notebook sea la ruta principal y poder trabajar en cascada\n"
   ]
  },
  {
   "cell_type": "code",
   "execution_count": 3,
   "metadata": {},
   "outputs": [],
   "source": [
    "# importamos las librerias\n",
    "from utils.funcion import *"
   ]
  },
  {
   "cell_type": "code",
   "execution_count": 6,
   "metadata": {},
   "outputs": [],
   "source": [
    "# Cargamos los datos\n",
    "df = pd.read_csv('src/data/raw/players_fifa23.csv')"
   ]
  },
  {
   "cell_type": "code",
   "execution_count": null,
   "metadata": {},
   "outputs": [],
   "source": [
    "# Eliminar los espacios en blanco\n",
    "df.columns = df.columns.str.strip()\n"
   ]
  },
  {
   "cell_type": "code",
   "execution_count": 8,
   "metadata": {},
   "outputs": [
    {
     "name": "stdout",
     "output_type": "stream",
     "text": [
      "DataFrame de los jugadores 'GK':\n",
      "           ID         Name                   FullName  Age  Height  Weight  \\\n",
      "6      192119  T. Courtois           Thibaut Courtois   30     199      96   \n",
      "7      167495     M. Neuer               Manuel Neuer   36     193      93   \n",
      "14     200389     J. Oblak                  Jan Oblak   29     188      87   \n",
      "16     210257      Ederson  Ederson Santana de Moraes   28     188      86   \n",
      "18     212831      Alisson      Alisson Ramses Becker   29     191      91   \n",
      "...       ...          ...                        ...  ...     ...     ...   \n",
      "18508  259313    L. Jongte         Lalbiakhlua Jongte   19     183      84   \n",
      "18515  261958    Gao Xiang                  Xiang Gao   21     182      70   \n",
      "18520  261423      N. Deka                Nikhil Deka   19     185      68   \n",
      "18521  259488     V. Yadav               Vishal Yadav   20     183      70   \n",
      "18524  271179   A. Brînzea             Andreș Brînzea   16     187      76   \n",
      "\n",
      "                                               PhotoUrl Nationality  Overall  \\\n",
      "6      https://cdn.sofifa.net/players/192/119/23_60.png     Belgium       90   \n",
      "7      https://cdn.sofifa.net/players/167/495/23_60.png     Germany       90   \n",
      "14     https://cdn.sofifa.net/players/200/389/23_60.png    Slovenia       89   \n",
      "16     https://cdn.sofifa.net/players/210/257/23_60.png      Brazil       89   \n",
      "18     https://cdn.sofifa.net/players/212/831/23_60.png      Brazil       89   \n",
      "...                                                 ...         ...      ...   \n",
      "18508  https://cdn.sofifa.net/players/259/313/23_60.png       India       48   \n",
      "18515  https://cdn.sofifa.net/players/261/958/23_60.png    China PR       48   \n",
      "18520  https://cdn.sofifa.net/players/261/423/23_60.png       India       48   \n",
      "18521  https://cdn.sofifa.net/players/259/488/23_60.png       India       48   \n",
      "18524  https://cdn.sofifa.net/players/271/179/23_60.png     Romania       48   \n",
      "\n",
      "       Potential  ...  LMRating  CMRating  RMRating LWBRating CDMRating  \\\n",
      "6             91  ...        34        35        34        32        34   \n",
      "7             90  ...        47        53        47        39        46   \n",
      "14            91  ...        37        41        37        35        40   \n",
      "16            91  ...        47        52        47        40        47   \n",
      "18            90  ...        45        49        45        36        42   \n",
      "...          ...  ...       ...       ...       ...       ...       ...   \n",
      "18508         60  ...        21        24        21        20        24   \n",
      "18515         54  ...        18        19        18        19        21   \n",
      "18520         61  ...        21        21        21        20        20   \n",
      "18521         62  ...        22        27        22        20        24   \n",
      "18524         72  ...        21        24        21        19        23   \n",
      "\n",
      "      RWBRating  LBRating  CBRating  RBRating GKRating  \n",
      "6            32        32        32        32       90  \n",
      "7            39        38        37        38       90  \n",
      "14           35        35        36        35       90  \n",
      "16           40        39        38        39       90  \n",
      "18           36        35        35        35       90  \n",
      "...         ...       ...       ...       ...      ...  \n",
      "18508        20        19        22        19       49  \n",
      "18515        19        19        23        19       49  \n",
      "18520        20        20        20        20       49  \n",
      "18521        20        19        21        19       49  \n",
      "18524        19        19        21        19       49  \n",
      "\n",
      "[2061 rows x 90 columns]\n",
      "\n",
      "DataFrame de los jugadores de otras posiciones:\n",
      "           ID            Name            FullName  Age  Height  Weight  \\\n",
      "0      158023        L. Messi        Lionel Messi   35     169      67   \n",
      "1      165153      K. Benzema       Karim Benzema   34     185      81   \n",
      "2      188545  R. Lewandowski  Robert Lewandowski   33     185      81   \n",
      "3      192985    K. De Bruyne     Kevin De Bruyne   31     181      70   \n",
      "4      231747       K. Mbappé       Kylian Mbappé   23     182      73   \n",
      "...       ...             ...                 ...  ...     ...     ...   \n",
      "18534  243725      D. Collins      Darren Collins   21     174      68   \n",
      "18535  261933    Yang Dejiang        Dejiang Yang   17     175      60   \n",
      "18536  267823       L. Mullan         Liam Mullan   18     170      65   \n",
      "18537  267824    D. McCallion    Daithí McCallion   17     178      65   \n",
      "18538  261424        N. Rabha         Nabin Rabha   25     176      66   \n",
      "\n",
      "                                               PhotoUrl          Nationality  \\\n",
      "0      https://cdn.sofifa.net/players/158/023/23_60.png            Argentina   \n",
      "1      https://cdn.sofifa.net/players/165/153/23_60.png               France   \n",
      "2      https://cdn.sofifa.net/players/188/545/23_60.png               Poland   \n",
      "3      https://cdn.sofifa.net/players/192/985/23_60.png              Belgium   \n",
      "4      https://cdn.sofifa.net/players/231/747/23_60.png               France   \n",
      "...                                                 ...                  ...   \n",
      "18534  https://cdn.sofifa.net/players/243/725/23_60.png  Republic of Ireland   \n",
      "18535  https://cdn.sofifa.net/players/261/933/23_60.png             China PR   \n",
      "18536  https://cdn.sofifa.net/players/267/823/23_60.png     Northern Ireland   \n",
      "18537  https://cdn.sofifa.net/players/267/824/23_60.png  Republic of Ireland   \n",
      "18538  https://cdn.sofifa.net/players/261/424/23_60.png                India   \n",
      "\n",
      "       Overall  Potential  ...  LMRating  CMRating  RMRating LWBRating  \\\n",
      "0           91         91  ...        91        88        91        67   \n",
      "1           91         91  ...        89        84        89        67   \n",
      "2           91         91  ...        86        83        86        67   \n",
      "3           91         91  ...        91        91        91        82   \n",
      "4           91         95  ...        92        84        92        70   \n",
      "...        ...        ...  ...       ...       ...       ...       ...   \n",
      "18534       47         56  ...        50        44        50        41   \n",
      "18535       47         57  ...        45        45        45        47   \n",
      "18536       47         67  ...        52        49        52        46   \n",
      "18537       47         61  ...        33        33        33        44   \n",
      "18538       47         50  ...        44        40        44        46   \n",
      "\n",
      "      CDMRating RWBRating  LBRating  CBRating  RBRating GKRating  \n",
      "0            66        67        62        53        62       22  \n",
      "1            67        67        63        58        63       21  \n",
      "2            69        67        64        63        64       22  \n",
      "3            82        82        78        72        78       24  \n",
      "4            66        70        66        57        66       21  \n",
      "...         ...       ...       ...       ...       ...      ...  \n",
      "18534        38        41        40        36        40       15  \n",
      "18535        48        47        49        49        49       15  \n",
      "18536        44        46        46        42        46       17  \n",
      "18537        42        44        47        49        47       15  \n",
      "18538        43        46        47        47        47       19  \n",
      "\n",
      "[16478 rows x 90 columns]\n"
     ]
    }
   ],
   "source": [
    "# Dividri el DataFrame en dos DataFrames\n",
    "df_gk = df[df['BestPosition'] == 'GK']\n",
    "df_otras_posiciones = df[df['BestPosition'] != 'GK']\n",
    "\n",
    "# Verificar los nuevos DataFrames\n",
    "print(\"DataFrame de los jugadores 'GK':\")\n",
    "print(df_gk)\n",
    "print(\"\\nDataFrame de los jugadores de otras posiciones:\")\n",
    "print(df_otras_posiciones)"
   ]
  },
  {
   "cell_type": "code",
   "execution_count": null,
   "metadata": {},
   "outputs": [],
   "source": [
    "df_otras_posiciones.describe()"
   ]
  },
  {
   "cell_type": "code",
   "execution_count": null,
   "metadata": {},
   "outputs": [],
   "source": [
    "df_otras_posiciones.sort_values(by='Overall', ascending=False)"
   ]
  },
  {
   "cell_type": "code",
   "execution_count": null,
   "metadata": {},
   "outputs": [],
   "source": [
    "# Crear una nueva columna con el BMI\n",
    "df_otras_posiciones['BMI'] = df_otras_posiciones['Weight'] / ((df_otras_posiciones['Height'] / 100) ** 2)\n",
    "print(df_otras_posiciones['BMI'])"
   ]
  },
  {
   "cell_type": "code",
   "execution_count": null,
   "metadata": {},
   "outputs": [],
   "source": [
    "# Eliminar los duplicados\n",
    "df_otras_posiciones.drop_duplicates( inplace=True)"
   ]
  },
  {
   "cell_type": "code",
   "execution_count": 9,
   "metadata": {},
   "outputs": [],
   "source": [
    "# Verificamos los Nulos\n",
    "columnas_con_nan = df_otras_posiciones.columns[df_otras_posiciones.isnull().any()]"
   ]
  },
  {
   "cell_type": "code",
   "execution_count": null,
   "metadata": {},
   "outputs": [],
   "source": [
    "df_con_nan = df_otras_posiciones[columnas_con_nan]\n",
    "\n",
    "df_con_nan"
   ]
  },
  {
   "cell_type": "code",
   "execution_count": null,
   "metadata": {},
   "outputs": [],
   "source": [
    "# Eliminar los Nulos\n",
    "df_otras_posiciones.drop(df_con_nan, axis=1, inplace=True)"
   ]
  },
  {
   "cell_type": "code",
   "execution_count": null,
   "metadata": {},
   "outputs": [],
   "source": [
    "# Verificamos los Nulos\n",
    "df_otras_posiciones.isnull().sum().sort_values(ascending=False)"
   ]
  },
  {
   "cell_type": "code",
   "execution_count": null,
   "metadata": {},
   "outputs": [],
   "source": [
    "# Vemos las columnas que no son numéricas\n",
    "columnas_object = df_otras_posiciones.select_dtypes(include='object').columns\n",
    "columnas_object"
   ]
  },
  {
   "cell_type": "code",
   "execution_count": null,
   "metadata": {},
   "outputs": [],
   "source": [
    "# Eliminamos los espacios en blanco\n",
    "df_otras_posiciones.columns = df_otras_posiciones.columns.str.strip()"
   ]
  },
  {
   "cell_type": "code",
   "execution_count": null,
   "metadata": {},
   "outputs": [],
   "source": [
    "# Vemos los valores únicos de la columna 'BestPosition'\n",
    "df_otras_posiciones['BestPosition'].unique()"
   ]
  },
  {
   "cell_type": "code",
   "execution_count": null,
   "metadata": {},
   "outputs": [],
   "source": [
    "# Eliminamos las columnas que no son numéricas y menos importantes\n",
    "columnas_a_eliminar = ['FullName', 'PhotoUrl', 'Nationality', 'Positions',\n",
    "       'Club', 'NationalTeam', 'PreferredFoot','AttackingWorkRate', 'DefensiveWorkRate',\n",
    "       'ID', 'Growth','ValueEUR', 'WageEUR', 'ReleaseClause','ClubJoined', 'IntReputation',\n",
    "       'TotalStats','BaseStats','LWRating', 'LFRating', 'CFRating', 'RFRating', 'RWRating', 'CAMRating',\n",
    "       'LMRating', 'CMRating', 'RMRating', 'LWBRating', 'CDMRating',\n",
    "       'RWBRating', 'LBRating', 'CBRating', 'RBRating', 'GKRating','STRating']\n",
    "df_otras_posiciones = df_otras_posiciones.drop(columnas_a_eliminar, axis=1)"
   ]
  },
  {
   "cell_type": "code",
   "execution_count": null,
   "metadata": {},
   "outputs": [],
   "source": [
    "# Crear  nuevas columna con un get_dummies de la columna 'BestPosition'\n",
    "df_get_dummies = pd.get_dummies(df_otras_posiciones['BestPosition'], drop_first=True).astype(int)\n",
    "print(df_get_dummies.head())\n"
   ]
  },
  {
   "cell_type": "code",
   "execution_count": null,
   "metadata": {},
   "outputs": [],
   "source": [
    "# Concatenar los DataFrames \n",
    "fifa = pd.concat([df_otras_posiciones, df_get_dummies], axis=1)"
   ]
  },
  {
   "cell_type": "code",
   "execution_count": null,
   "metadata": {},
   "outputs": [],
   "source": [
    "# Eliminamos las columnas OnLoad y BestPosition\n",
    "fifa.drop(['OnLoad','BestPosition'] ,axis=1, inplace=True)"
   ]
  },
  {
   "cell_type": "code",
   "execution_count": null,
   "metadata": {},
   "outputs": [],
   "source": [
    "# Verificamos los Nulos en la columna 'Overall'\n",
    "fifa['Overall'].isnull().sum()"
   ]
  },
  {
   "cell_type": "code",
   "execution_count": null,
   "metadata": {},
   "outputs": [],
   "source": [
    "# Calcular la media del valor de 'Overall'\n",
    "media_overall = fifa['Overall'].mean()"
   ]
  },
  {
   "cell_type": "code",
   "execution_count": null,
   "metadata": {},
   "outputs": [],
   "source": [
    "# Asignar clasificación de habilidad basada en la media\n",
    "fifa['Clasificación Habilidad'] = np.where(fifa['Overall'] < media_overall, 'Baja', 'Alta')"
   ]
  },
  {
   "cell_type": "code",
   "execution_count": null,
   "metadata": {},
   "outputs": [],
   "source": [
    "# Mostrar el DataFrame con las columnas 'Overall' y 'Clasificación Habilidad'\n",
    "print(fifa[['Overall', 'Clasificación Habilidad']].head())"
   ]
  },
  {
   "cell_type": "code",
   "execution_count": null,
   "metadata": {},
   "outputs": [],
   "source": [
    "# Verificamos los Nulos en la columna 'Clasificación Habilidad'\n",
    "fifa['Clasificación Habilidad'].isnull().sum()"
   ]
  },
  {
   "cell_type": "code",
   "execution_count": null,
   "metadata": {},
   "outputs": [],
   "source": [
    "# Mostrar el DataFrame con las columnas 'Overall' y 'Clasificación Habilidad'\n",
    "fifa.groupby('Clasificación Habilidad').Overall.mean().sort_values(ascending=False).plot(kind='bar')\n"
   ]
  },
  {
   "cell_type": "code",
   "execution_count": null,
   "metadata": {},
   "outputs": [],
   "source": [
    "# Verificamos los valores únicos de la columna 'Clasificación Habilidad'\n",
    "fifa['Clasificación Habilidad'].unique()"
   ]
  },
  {
   "cell_type": "code",
   "execution_count": null,
   "metadata": {},
   "outputs": [],
   "source": [
    "# Asignar clasificación de habilidad con los valores Baja = 0 y Alta = 1\n",
    "fifa[\"Clasificación Habilidad\"] = fifa[\"Clasificación Habilidad\"].map({ \"Baja\": 0, \"Alta\": 1})"
   ]
  },
  {
   "cell_type": "code",
   "execution_count": null,
   "metadata": {},
   "outputs": [],
   "source": [
    "# Obtiene las columnas que se deben escalar (todas excepto 'Name' )\n",
    "columns_to_scale = fifa.columns.difference(['Name'])"
   ]
  },
  {
   "cell_type": "code",
   "execution_count": null,
   "metadata": {},
   "outputs": [],
   "source": [
    "# Crea un objeto MinMaxScaler\n",
    "scaler = MinMaxScaler()"
   ]
  },
  {
   "cell_type": "code",
   "execution_count": null,
   "metadata": {},
   "outputs": [],
   "source": [
    "# Aplica el escalado solo a las columnas seleccionadas\n",
    "fifa[columns_to_scale] = scaler.fit_transform(fifa[columns_to_scale])"
   ]
  },
  {
   "cell_type": "code",
   "execution_count": null,
   "metadata": {},
   "outputs": [],
   "source": [
    "# Realizamos una clusterización K-Means en las columnas de posiciones\n",
    "posiciones = fifa[['CB', 'CDM', 'CF','CM', 'LB', 'LM', 'LW', \n",
    "                   'LWB', 'RB', 'RM', 'RW', 'RWB', 'ST',]]"
   ]
  },
  {
   "cell_type": "code",
   "execution_count": null,
   "metadata": {},
   "outputs": [],
   "source": [
    "scaler = StandardScaler()\n",
    "datos_normalizados = scaler.fit_transform(posiciones)\n",
    "\n",
    "numero_clusters = len(posiciones.columns)\n",
    "\n",
    "modelo = KMeans(n_clusters=numero_clusters)\n",
    "modelo.fit(datos_normalizados)\n",
    "\n",
    "etiquetas_clusters = modelo.labels_\n",
    "\n",
    "fifa['Cluster'] = etiquetas_clusters\n",
    "fifa.head()"
   ]
  },
  {
   "cell_type": "code",
   "execution_count": null,
   "metadata": {},
   "outputs": [],
   "source": [
    "# Obtener el número de clusters presentes en el DataFrame\n",
    "numero_clusters = fifa['Cluster'].nunique()"
   ]
  },
  {
   "cell_type": "code",
   "execution_count": null,
   "metadata": {},
   "outputs": [],
   "source": [
    "# Obtener el número de clusters presentes en el DataFrame\n",
    "numero_clusters = fifa['Cluster'].nunique()\n",
    "\n",
    "# Iterar sobre cada cluster y mostrar los 10 mejores jugadores de cada uno\n",
    "for cluster_id in range(numero_clusters):\n",
    "    print(f\"Mejores jugadores en el Cluster {cluster_id}:\")\n",
    "    \n",
    "    # Filtrar los datos correspondientes al cluster actual y ordenar por 'Clasificación Habilidad' en orden descendente\n",
    "    jugadores_cluster = fifa[fifa['Cluster'] == cluster_id].sort_values(by='Overall', ascending=False)\n",
    "    \n",
    "    # Mostrar solo los 10 mejores jugadores del cluster actual\n",
    "    top_10_jugadores = jugadores_cluster.head(20)[['Name', 'Overall']]\n",
    "    print(top_10_jugadores)\n",
    "    print('\\n')"
   ]
  },
  {
   "cell_type": "code",
   "execution_count": null,
   "metadata": {},
   "outputs": [],
   "source": [
    "# Obtener el número de clusters presentes en el DataFrame\n",
    "numero_clusters = fifa['Cluster'].nunique()\n",
    "\n",
    "# Calcular el número de filas y columnas para la disposición de subplots\n",
    "num_filas = (numero_clusters + 1) // 2  # Dividir y redondear hacia arriba\n",
    "num_columnas = 2\n",
    "\n",
    "# Crear una figura con subplots para mostrar cada gráfica de cada cluster\n",
    "fig, axs = plt.subplots(num_filas, num_columnas, figsize=(15, 6*num_filas), sharex=True)\n",
    "\n",
    "# Definir un esquema de colores para los jugadores en todas las gráficas\n",
    "colores = sns.color_palette('tab20', n_colors=20)\n",
    "\n",
    "# Iterar sobre cada cluster y generar una gráfica para los 10 mejores jugadores de cada uno\n",
    "for cluster_id in range(numero_clusters):\n",
    "    # Filtrar los datos correspondientes al cluster actual y ordenar por 'Overall' en orden descendente\n",
    "    jugadores_cluster = fifa[fifa['Cluster'] == cluster_id].sort_values(by='Overall', ascending=False)\n",
    "    \n",
    "    # Seleccionar solo los 10 mejores jugadores del cluster actual\n",
    "    top_10_jugadores = jugadores_cluster.head(20)\n",
    "    \n",
    "    # Calcular la posición del subplot en la disposición de 2x4\n",
    "    fila = cluster_id // num_columnas\n",
    "    columna = cluster_id % num_columnas\n",
    "    \n",
    "    # Crear la gráfica de barras horizontal para los 10 mejores jugadores del cluster actual\n",
    "    axs[fila, columna].barh(top_10_jugadores['Name'], top_10_jugadores['Overall'], color=colores)\n",
    "    axs[fila, columna].set_xlabel('Overall')\n",
    "    axs[fila, columna].set_title(f'Cluster {cluster_id}', fontsize=14, fontweight='bold')\n",
    "    axs[fila, columna].invert_yaxis()  # Invertir el eje y para que los jugadores mejor clasificados estén en la parte superior\n",
    "    \n",
    "    # Eliminar los bordes innecesarios en cada subplot\n",
    "    axs[fila, columna].spines['top'].set_visible(False)\n",
    "    axs[fila, columna].spines['right'].set_visible(False)\n",
    "    axs[fila, columna].spines['bottom'].set_visible(False)\n",
    "    \n",
    "    # Añadir un fondo gris claro a cada subplot\n",
    "    axs[fila, columna].set_facecolor('#F5F5F5')\n",
    "\n",
    "# Ajustar los espacios entre las gráficas para que no se superpongan\n",
    "plt.tight_layout()\n",
    "\n",
    "# Mostrar la gráfica\n",
    "plt.show();"
   ]
  },
  {
   "cell_type": "code",
   "execution_count": null,
   "metadata": {},
   "outputs": [],
   "source": [
    "\"\"\" Gráfica de  la distribución de la columna 'Overall' \"\"\"\n",
    "\n",
    "fig, axes = plt.subplots(2, 3, figsize=(20, 10))\n",
    "\n",
    "# Funcion de densidad\n",
    "sns.distplot(fifa['Overall'], hist = False, ax=axes[0, 0])\n",
    "axes[0, 0].set_title(\"Función de densidad\")\n",
    "\n",
    "# Histograma\n",
    "sns.distplot(fifa['Overall'],\n",
    "             kde=False,\n",
    "             color='slategray',\n",
    "             ax=axes[0, 1]);\n",
    "\n",
    "axes[0, 1].set_title(\"Histograma\")\n",
    "\n",
    "# Funcion de densidad + histograma\n",
    "sns.distplot(fifa['Overall'],\n",
    "            kde_kws={\"color\": \"k\", \"lw\": 3, \"label\": \"KDE\"},\n",
    "            hist_kws={\"histtype\": \"step\", \"linewidth\": 3,\n",
    "                      \"alpha\": 1, \"color\": \"g\"},\n",
    "             ax=axes[0, 2])\n",
    "\n",
    "\n",
    "axes[0, 2].set_title(\"Funcion de densidad + hist.\")\n",
    "\n",
    "# Boxplot\n",
    "sns.boxplot(fifa['Overall'], color=\"slategray\", ax=axes[1, 0])\n",
    "axes[1, 0].set_title(\"Box plot Overall\")\n",
    "\n",
    "# Violin plot\n",
    "sns.violinplot(fifa['Overall'], color=\"slategray\", ax=axes[1, 1])\n",
    "axes[1, 1].set_title(\"Violin plot\")\n",
    "\n",
    "\n",
    "# Funcion de densidad + Clasificación Habilidad\n",
    "sns.kdeplot(data=fifa, x='Overall', hue = 'Cluster', ax=axes[1, 2])\n",
    "axes[1, 2].set_title(\"FDP + Overall\");"
   ]
  },
  {
   "cell_type": "code",
   "execution_count": null,
   "metadata": {},
   "outputs": [],
   "source": [
    "# Para ver los missing values, valores uniques y cardin\n",
    "data_report(fifa)"
   ]
  },
  {
   "cell_type": "code",
   "execution_count": null,
   "metadata": {},
   "outputs": [],
   "source": [
    "precent_missing = fifa.isnull().sum()*100/len(fifa)\n",
    "missing_value_fifa = pd.DataFrame({'column_name': fifa.columns,\n",
    "                                'percent_missing': precent_missing}).sort_values('percent_missing', ascending=False)\n",
    "missing_value_fifa"
   ]
  },
  {
   "cell_type": "code",
   "execution_count": null,
   "metadata": {},
   "outputs": [],
   "source": [
    "cols_to_drop = missing_value_fifa[missing_value_fifa['percent_missing'] > 50].index.values\n",
    "print(\"Cols:\", cols_to_drop)\n",
    "\n",
    "print(\"Columnas pre drop:\", len(fifa.columns))\n",
    "\n",
    "fifa.drop(columns=cols_to_drop, inplace=True)\n",
    "\n",
    "print(\"Columnas post drop:\", len(fifa.columns))"
   ]
  },
  {
   "cell_type": "markdown",
   "metadata": {},
   "source": [
    "## Análisis Univariante"
   ]
  },
  {
   "cell_type": "code",
   "execution_count": null,
   "metadata": {},
   "outputs": [],
   "source": [
    "plot_histograms_with_analysis(fifa, 'Overall')"
   ]
  },
  {
   "cell_type": "markdown",
   "metadata": {},
   "source": [
    "## Modelos"
   ]
  },
  {
   "cell_type": "code",
   "execution_count": null,
   "metadata": {},
   "outputs": [],
   "source": [
    "X = fifa.drop(['Overall', 'Name','Clasificación Habilidad'], axis=1)\n",
    "y = fifa['Overall']"
   ]
  },
  {
   "cell_type": "code",
   "execution_count": null,
   "metadata": {},
   "outputs": [],
   "source": [
    "X_train, X_test, y_train, y_test = train_test_split(X,y, test_size=0.2, random_state=42)"
   ]
  },
  {
   "cell_type": "markdown",
   "metadata": {},
   "source": [
    "### Linear Regression"
   ]
  },
  {
   "cell_type": "code",
   "execution_count": null,
   "metadata": {},
   "outputs": [],
   "source": [
    "modelo_lm = LinearRegression()\n",
    "modelo_lm.fit(X_train, y_train)"
   ]
  },
  {
   "cell_type": "code",
   "execution_count": null,
   "metadata": {},
   "outputs": [],
   "source": [
    "# Mostramos las predicciones\n",
    "predictions = modelo_lm.predict(X_test)\n",
    "print(predictions)"
   ]
  },
  {
   "cell_type": "code",
   "execution_count": null,
   "metadata": {},
   "outputs": [],
   "source": [
    "print(\"score:\",modelo_lm.score(X_test, y_test))\n",
    "print(\"MSE:\", metrics.mean_squared_error(y_test, predictions))\n",
    "print(\"RMSE:\", np.sqrt(metrics.mean_squared_error(y_test, predictions)))\n",
    "print(\"MAE:\", metrics.mean_absolute_error(y_test, predictions))"
   ]
  },
  {
   "cell_type": "code",
   "execution_count": null,
   "metadata": {},
   "outputs": [],
   "source": [
    "# Mostramos los coeficientes de la regresión\n",
    "\n",
    "coeff_fifa = pd.DataFrame(modelo_lm.coef_,\n",
    "                          X.columns,columns=['coefficient'])\n",
    "coeff_graf = coeff_fifa.head(10).sort_values('coefficient', ascending=False)\n",
    "sns.barplot(x=coeff_graf['coefficient'], y=coeff_graf.index)\n"
   ]
  },
  {
   "cell_type": "code",
   "execution_count": null,
   "metadata": {},
   "outputs": [],
   "source": [
    "# Mostramos los interceptos\n",
    "intercept = modelo_lm.intercept_\n",
    "features = pd.DataFrame(modelo_lm.coef_, X_train.columns, columns=['coefficient'])\n",
    "features.head().sort_values('coefficient', ascending=False)\n",
    "\n",
    "# Calcular el valor absoluto de los coeficientes para tener una magnitud de importancia\n",
    "features['absolute_coefficient'] = abs(features['coefficient'])\n",
    "\n",
    "# Ordenar las características por importancia en orden descendente\n",
    "features = features.sort_values('absolute_coefficient', ascending=False)\n",
    "\n",
    "# Gráfico de barras\n",
    "plt.figure(figsize=(14, 8))\n",
    "plt.bar(features.index, features['coefficient'])\n",
    "plt.axhline(0, color='gray', linewidth=1, linestyle='dashed')  # Línea en y=0 para referencia\n",
    "plt.xlabel('Característica')\n",
    "plt.ylabel('Coeficiente')\n",
    "plt.title('Importancia de las Características en la Predicción del Overall')\n",
    "plt.xticks(rotation=90, ha='right')  # Rotar las etiquetas del eje x para mejorar la legibilidad\n",
    "plt.show()\n"
   ]
  },
  {
   "cell_type": "markdown",
   "metadata": {},
   "source": [
    "### Decision Tree"
   ]
  },
  {
   "cell_type": "code",
   "execution_count": null,
   "metadata": {},
   "outputs": [],
   "source": [
    "# Crear el modelo Decision Tree\n",
    "modelo_dtree = DecisionTreeRegressor()\n",
    "modelo_dtree.fit(X_train, y_train)\n",
    "y_pred_dtree = modelo_dtree.predict(X_test)"
   ]
  },
  {
   "cell_type": "code",
   "execution_count": null,
   "metadata": {},
   "outputs": [],
   "source": [
    "print(\"MSE:\", mean_squared_error(y_test, y_pred_dtree))\n",
    "print(\"RMSE:\", np.sqrt(mean_squared_error(y_test, y_pred_dtree)))\n",
    "print(\"MAE:\", mean_absolute_error(y_test, y_pred_dtree))\n",
    "print(\"R2:\", r2_score(y_test, y_pred_dtree))"
   ]
  },
  {
   "cell_type": "markdown",
   "metadata": {},
   "source": [
    "### K-Nearest Neighbors"
   ]
  },
  {
   "cell_type": "code",
   "execution_count": null,
   "metadata": {},
   "outputs": [],
   "source": [
    "modelo_KNN = KNeighborsRegressor(n_neighbors=5) \n",
    "modelo_KNN.fit(X_train, y_train)\n",
    "y_pred_KNN = modelo_KNN.predict(X_test)"
   ]
  },
  {
   "cell_type": "code",
   "execution_count": null,
   "metadata": {},
   "outputs": [],
   "source": [
    "print(\"MSE:\", mean_squared_error(y_test, y_pred_KNN))\n",
    "print(\"RMSE:\", np.sqrt(mean_squared_error(y_test, y_pred_KNN)))\n",
    "print(\"MAE:\", mean_absolute_error(y_test, y_pred_KNN))\n",
    "print(\"R2:\", r2_score(y_test, y_pred_KNN))"
   ]
  },
  {
   "cell_type": "markdown",
   "metadata": {},
   "source": [
    "### Super Vectoral Regression"
   ]
  },
  {
   "cell_type": "code",
   "execution_count": null,
   "metadata": {},
   "outputs": [],
   "source": [
    "modelo_SVM = SVR()\n",
    "modelo_SVM.fit(X_train, y_train)\n",
    "y_pred_SVM = modelo_SVM.predict(X_test)"
   ]
  },
  {
   "cell_type": "code",
   "execution_count": null,
   "metadata": {},
   "outputs": [],
   "source": [
    "print(\"MSE:\", mean_squared_error(y_test, y_pred_SVM))\n",
    "print(\"RMSE:\", np.sqrt(mean_squared_error(y_test, y_pred_SVM)))\n",
    "print(\"MAE:\", mean_absolute_error(y_test, y_pred_SVM))\n",
    "print(\"R2:\", r2_score(y_test, y_pred_SVM))"
   ]
  },
  {
   "cell_type": "markdown",
   "metadata": {},
   "source": [
    "### Random Forest"
   ]
  },
  {
   "cell_type": "code",
   "execution_count": null,
   "metadata": {},
   "outputs": [],
   "source": [
    "modelo_rf = RandomForestRegressor()\n",
    "modelo_rf.fit(X_train, y_train)\n",
    "y_pred = modelo_rf.predict(X_test)"
   ]
  },
  {
   "cell_type": "code",
   "execution_count": null,
   "metadata": {},
   "outputs": [],
   "source": [
    "print(\"MSE:\", mean_squared_error(y_test, y_pred))\n",
    "print(\"RMSE:\", np.sqrt(mean_squared_error(y_test, y_pred)))\n",
    "print(\"MAE:\", mean_absolute_error(y_test, y_pred))\n",
    "print(\"R2:\", r2_score(y_test, y_pred))"
   ]
  },
  {
   "cell_type": "code",
   "execution_count": null,
   "metadata": {},
   "outputs": [],
   "source": [
    "# Obtener la importancia de las características del modelo Random Forest\n",
    "importancia_caracteristicas = modelo_rf.feature_importances_\n",
    "\n",
    "# Crear un DataFrame para facilitar la visualización\n",
    "caracteristicas_df = pd.DataFrame({'Característica': X_train.columns, 'Importancia': importancia_caracteristicas})\n",
    "\n",
    "# Ordenar las características por importancia en orden descendente\n",
    "caracteristicas_df = caracteristicas_df.sort_values('Importancia', ascending=False).head(15)\n",
    "\n",
    "# Gráfico de barras\n",
    "plt.figure(figsize=(10, 6))\n",
    "plt.bar(caracteristicas_df['Característica'], caracteristicas_df['Importancia'])\n",
    "plt.xlabel('Característica')\n",
    "plt.ylabel('Importancia')\n",
    "plt.title('Importancia de las Características en el Modelo Random Forest')\n",
    "plt.xticks(rotation=45, ha='right')  # Rotar las etiquetas del eje x para mejorar la legibilidad\n",
    "plt.show()\n"
   ]
  },
  {
   "cell_type": "markdown",
   "metadata": {},
   "source": [
    "### Grind Search y Cross Validation"
   ]
  },
  {
   "cell_type": "code",
   "execution_count": null,
   "metadata": {},
   "outputs": [],
   "source": [
    "def tune_hyperparameters(model, param_grid):\n",
    "    grid_search = GridSearchCV(estimator=model, param_grid=param_grid, cv=5, scoring='neg_mean_squared_error')\n",
    "    grid_search.fit(X_train, y_train)\n",
    "    best_model = grid_search.best_estimator_\n",
    "    best_params = grid_search.best_params_\n",
    "    cv_rmse = cross_val_score(best_model, X_train, y_train, cv=5, scoring='neg_mean_squared_error')\n",
    "    cv_rmse_mean = cv_rmse.mean()\n",
    "    return best_model, best_params, cv_rmse_mean\n",
    "\n",
    "# Los modelos y los hiperparámetros\n",
    "models = {\n",
    "    'SVR': (SVR(), {\n",
    "        'C': [1, 10, 100],\n",
    "        'kernel': ['linear', 'rbf']\n",
    "    }),\n",
    "    'LinearSVR': (LinearSVR(), {\n",
    "        'C': [0.1, 1, 10]\n",
    "    }),\n",
    "    'Linear Regression': (LinearRegression(), {}),\n",
    "    'Random Forest': (RandomForestRegressor(), {\n",
    "        'n_estimators': [50, 100, 200],\n",
    "        'max_depth': [None, 5, 10]\n",
    "    }),\n",
    "    'Gradient Boosting': (GradientBoostingRegressor(), {\n",
    "        'n_estimators': [50, 100, 200],\n",
    "        'learning_rate': [0.01, 0.1, 0.2],\n",
    "        'max_depth': [3, 5, 7]\n",
    "    }),\n",
    "    'KNN': (KNeighborsRegressor(), {\n",
    "        'n_neighbors': [3, 5, 7],\n",
    "        'weights': ['uniform', 'distance']\n",
    "    }),\n",
    "    'Decision Tree': (DecisionTreeRegressor(), {\n",
    "        'max_depth': [None, 5, 10]\n",
    "    }),\n",
    "    'XGBoost': (XGBRegressor(), {\n",
    "        'n_estimators': [50, 100, 200],\n",
    "        'learning_rate': [0.01, 0.1, 0.2],\n",
    "        'max_depth': [3, 5, 7]\n",
    "    })\n",
    "}\n",
    "\n",
    "\n",
    "# Aplicar GridSearchCV a cada modelo y obtener el mejor modelo con hiperparámetros ajustados\n",
    "best_models = {}\n",
    "for model_name, (model, param_grid) in models.items():\n",
    "    best_model, best_params, cv_rmse_mean = tune_hyperparameters(model, param_grid)\n",
    "    best_models[model_name] = {\n",
    "        'best_model': best_model,\n",
    "        'best_params': best_params,\n",
    "        'cv_rmse_mean': cv_rmse_mean\n",
    "    }\n",
    "\n",
    "# Evaluar cada modelo con los mejores hiperparámetros utilizando el RMSE\n",
    "for model_name, model_info in best_models.items():\n",
    "    model = model_info['best_model']\n",
    "    best_params = model_info['best_params']\n",
    "    cv_rmse_mean = model_info['cv_rmse_mean']\n",
    "\n",
    "    y_pred = model.predict(X_test)\n",
    "    rmse = mean_squared_error(y_test, y_pred, squared=False)\n",
    "\n",
    "    print(f\"{model_name}:\")\n",
    "    print(f\"  Mejores hiperparámetros: {best_params}\")\n",
    "    print(f\"  RMSE con mejores hiperparámetros: {rmse:.2f}\")\n",
    "    print(f\"  CV RMSE promedio: {cv_rmse_mean:.2f}\")\n"
   ]
  },
  {
   "cell_type": "markdown",
   "metadata": {},
   "source": [
    "### Guardamos el mejor modelo con hiperparámetros ajustados y mejor RMSE en un archivo "
   ]
  },
  {
   "cell_type": "code",
   "execution_count": null,
   "metadata": {},
   "outputs": [],
   "source": [
    "model_GBRegressor = GradientBoostingRegressor(learning_rate= 0.1,max_depth=7, n_estimators=200)\n",
    "\n",
    "# Entrenar el modelo con los datos de entrenamiento\n",
    "model_GBRegressor.fit(X_train, y_train)\n",
    "\n",
    "# Guardar el modelo en un archivo\n",
    "model_path = \"src/model/My_model.pkl\"\n",
    "with open(model_path, \"wb\") as f:\n",
    "    pickle.dump(model_GBRegressor, f)\n",
    "    "
   ]
  }
 ],
 "metadata": {
  "kernelspec": {
   "display_name": "Python 3",
   "language": "python",
   "name": "python3"
  },
  "language_info": {
   "codemirror_mode": {
    "name": "ipython",
    "version": 3
   },
   "file_extension": ".py",
   "mimetype": "text/x-python",
   "name": "python",
   "nbconvert_exporter": "python",
   "pygments_lexer": "ipython3",
   "version": "3.9.13"
  },
  "orig_nbformat": 4
 },
 "nbformat": 4,
 "nbformat_minor": 2
}
